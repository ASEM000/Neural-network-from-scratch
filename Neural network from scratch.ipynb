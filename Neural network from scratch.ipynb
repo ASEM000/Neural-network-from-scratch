{
 "cells": [
  {
   "cell_type": "code",
   "execution_count": 8,
   "metadata": {
    "ExecuteTime": {
     "end_time": "2020-09-15T17:13:42.227157Z",
     "start_time": "2020-09-15T17:13:42.188261Z"
    }
   },
   "outputs": [],
   "source": [
    "class NN:\n",
    "    def __init__(self):\n",
    "        self.neurons=[]\n",
    "    \n",
    "    @staticmethod\n",
    "    def __init_params(neurons):\n",
    "        np.random.seed(100)\n",
    "        W={};\n",
    "        B={}\n",
    "        for i in range(1,len(neurons)):\n",
    "            W[i] = np.random.rand(neurons[i],neurons[i-1]) *0.1\n",
    "            B[i] = np.zeros((neurons[i],1),dtype=np.float64)\n",
    "        return W,B\n",
    "    \n",
    "    \n",
    "    def dense(self,*neurons):\n",
    "        for neuron in neurons:\n",
    "            self.neurons.append(neuron)\n",
    "    \n",
    "    \n",
    "    @staticmethod\n",
    "    def __sigmoid(x):\n",
    "        return(1/(1+np.exp(-x)))\n",
    "\n",
    "    @staticmethod\n",
    "    def __relu(x):\n",
    "        return(np.maximum(0,x))\n",
    "    \n",
    "    @staticmethod\n",
    "    def __forward_propagation(x,w,b,g):\n",
    "        Z = np.dot(w,x) + b\n",
    "        return Z, g(Z)\n",
    "\n",
    "    @staticmethod\n",
    "    def __full_forward_propagation(X,W,B):\n",
    "        Z={};A={};A[0] = X\n",
    "        L = len(W)\n",
    "\n",
    "        for i in range(1,L):\n",
    "            Z[i],A[i] = NN.__forward_propagation(A[i-1],W[i],B[i],NN.__relu)\n",
    "            \n",
    "        Z[L],A[L] = NN.__forward_propagation(A[L-1],W[L],B[L],NN.__sigmoid)\n",
    "\n",
    "        return Z,A\n",
    "    \n",
    "\n",
    "\n",
    "    @staticmethod\n",
    "    def __dsigmoid(dA,Z):\n",
    "        g =NN.__sigmoid(Z)\n",
    "        return dA * g*(1-g)\n",
    "\n",
    "    @staticmethod\n",
    "    def __drelu(dA,z):\n",
    "        dz = np.array(dA,copy=True)\n",
    "        dz[z<=0]=0\n",
    "        return dz\n",
    "\n",
    "    @staticmethod\n",
    "    def __backward_propagation(dAf,W,B,Z,A,dg):\n",
    "        m=A.shape[1]\n",
    "        dZ=dg(dAf,Z)\n",
    "        dW=np.dot(dZ,A.T)/m\n",
    "        dB=np.sum(dZ,axis=1,keepdims=True)/m\n",
    "        dA0=np.dot(W.T,dZ)\n",
    "        return dW,dB,dA0\n",
    "    \n",
    "    @staticmethod\n",
    "    def __full_backward_propagation(W,B,Z,A,Y):\n",
    "        dW ={}\n",
    "        dB ={}\n",
    "        dZ={}\n",
    "        dA={}\n",
    "        L = len(W)\n",
    "        \n",
    "        dA[L] = - (np.divide(Y,A[L]) - np.divide((1-Y),(1-A[L])))\n",
    "        dW[L],dB[L],dA[L-1] = NN.__backward_propagation(dA[L],W[L],B[L],Z[L],A[L-1],NN.__dsigmoid)\n",
    "        \n",
    "        for i in reversed(range(1,L)):\n",
    "            dW[i],dB[i],dA[i-1] = NN.__backward_propagation(dA[i],W[i],B[i],Z[i],A[i-1],NN.__drelu)\n",
    "\n",
    "        return dW,dB\n",
    "    \n",
    "    \n",
    "\n",
    "    @staticmethod\n",
    "    def __update_params(W,B,dW,dB,lr):\n",
    "        L = len(W)\n",
    "        for i in range(1,L+1):\n",
    "            W[i]-=dW[i]*lr\n",
    "            B[i]-=dB[i]*lr\n",
    "        return W,B\n",
    "\n",
    "    @staticmethod\n",
    "    def __cost_function(AL,y):\n",
    "        m=AL.shape[1]\n",
    "        cost = (-1/m) * np.sum(np.multiply(y,np.log(AL)) + np.multiply((1-y),np.log(1-AL)))\n",
    "        # Make sure cost is a scalar\n",
    "        cost = np.squeeze(cost)\n",
    "        return cost\n",
    "    \n",
    "    @staticmethod\n",
    "    def __convert_prob_into_class(AL):\n",
    "        pred = np.copy(AL)\n",
    "        pred[AL > 0.5]  = 1\n",
    "        pred[AL <= 0.5] = 0\n",
    "        return pred\n",
    "\n",
    "    @staticmethod\n",
    "    def __get_accuracy(AL, Y):\n",
    "        pred = NN.__convert_prob_into_class(AL)\n",
    "        return (pred == Y).all(axis=0).mean()\n",
    "    \n",
    "    \n",
    "    def train(self,X,y,n_epochs=1,lr=1e-3,verbose=1):\n",
    "        epochs={}\n",
    "        \n",
    "        neurons = self.neurons\n",
    "\n",
    "        #initialize params\n",
    "        W,B = NN.__init_params(neurons)\n",
    "\n",
    "        L=len(W)\n",
    "\n",
    "        for i in range(1,n_epochs+1):\n",
    "            #forward\n",
    "            Z,A = NN.__full_forward_propagation(X,W,B)\n",
    "\n",
    "            #calculate cost and accuracy\n",
    "            cost = NN.__cost_function(A[L],y)\n",
    "            accuracy =NN.__get_accuracy(A[L],y)\n",
    "\n",
    "            epochs[i]={\"cost\":cost,\"accuracy\":accuracy}\n",
    "\n",
    "            if verbose==1 :\n",
    "                print(f'epoch:{i}/{n_epochs}',end='\\r')\n",
    "\n",
    "            #backward\n",
    "            dW,dB = NN.__full_backward_propagation(W,B,Z,A,y)\n",
    "\n",
    "            #Update\n",
    "            W,B = NN.__update_params(W,B,dW,dB,lr)\n",
    "\n",
    "        self.__W=W\n",
    "        self.__B=B\n",
    "        self.epochs=epochs"
   ]
  },
  {
   "cell_type": "code",
   "execution_count": 4,
   "metadata": {
    "ExecuteTime": {
     "end_time": "2020-09-15T17:12:14.134060Z",
     "start_time": "2020-09-15T17:12:13.953545Z"
    }
   },
   "outputs": [
    {
     "data": {
      "text/plain": [
       "<matplotlib.collections.PathCollection at 0x2a325d307c8>"
      ]
     },
     "execution_count": 4,
     "metadata": {},
     "output_type": "execute_result"
    },
    {
     "data": {
      "image/png": "[encoded data removed]",
      "text/plain": [
       "<Figure size 432x288 with 1 Axes>"
      ]
     },
     "metadata": {
      "needs_background": "light"
     },
     "output_type": "display_data"
    }
   ],
   "source": [
    "import sklearn\n",
    "from sklearn import datasets\n",
    "N_SAMPLES = 1000\n",
    "X, y = sklearn.datasets.make_moons(n_samples = N_SAMPLES, noise=0.2, random_state=100)\n",
    "\n",
    "import matplotlib.pyplot as plt\n",
    "\n",
    "plt.scatter(X[:,0],X[:,1])"
   ]
  },
  {
   "cell_type": "code",
   "execution_count": 9,
   "metadata": {
    "ExecuteTime": {
     "end_time": "2020-09-15T17:13:46.642613Z",
     "start_time": "2020-09-15T17:13:45.697143Z"
    }
   },
   "outputs": [
    {
     "name": "stdout",
     "output_type": "stream",
     "text": [
      "epoch:101/101\r"
     ]
    }
   ],
   "source": [
    "nn=NN()\n",
    "nn.dense(2,25,100,100,10,1)\n",
    "nn.train(X.T, y, 101,lr=0.01,verbose=1)"
   ]
  },
  {
   "cell_type": "code",
   "execution_count": 10,
   "metadata": {
    "ExecuteTime": {
     "end_time": "2020-09-15T17:13:54.202526Z",
     "start_time": "2020-09-15T17:13:54.174565Z"
    }
   },
   "outputs": [
    {
     "data": {
      "text/plain": [
       "{1: {'cost': 0.7460444340378486, 'accuracy': 0.494},\n",
       " 2: {'cost': 0.7338567557550496, 'accuracy': 0.511},\n",
       " 3: {'cost': 0.7239638557354885, 'accuracy': 0.518},\n",
       " 4: {'cost': 0.7158433721741387, 'accuracy': 0.52},\n",
       " 5: {'cost': 0.7091079060794013, 'accuracy': 0.522},\n",
       " 6: {'cost': 0.7034851028581444, 'accuracy': 0.53},\n",
       " 7: {'cost': 0.6987548478972424, 'accuracy': 0.533},\n",
       " 8: {'cost': 0.694704255585931, 'accuracy': 0.536},\n",
       " 9: {'cost': 0.6911938527163125, 'accuracy': 0.541},\n",
       " 10: {'cost': 0.6881323269766223, 'accuracy': 0.543},\n",
       " 11: {'cost': 0.685435499294437, 'accuracy': 0.543},\n",
       " 12: {'cost': 0.6830363755344336, 'accuracy': 0.541},\n",
       " 13: {'cost': 0.6808768038296455, 'accuracy': 0.543},\n",
       " 14: {'cost': 0.678909215071405, 'accuracy': 0.548},\n",
       " 15: {'cost': 0.677093199498806, 'accuracy': 0.552},\n",
       " 16: {'cost': 0.6754031953227992, 'accuracy': 0.552},\n",
       " 17: {'cost': 0.6738151424544108, 'accuracy': 0.555},\n",
       " 18: {'cost': 0.6723122612795963, 'accuracy': 0.558},\n",
       " 19: {'cost': 0.6708883937605973, 'accuracy': 0.562},\n",
       " 20: {'cost': 0.6695246367508316, 'accuracy': 0.564},\n",
       " 21: {'cost': 0.668206188906413, 'accuracy': 0.568},\n",
       " 22: {'cost': 0.6669238549957408, 'accuracy': 0.576},\n",
       " 23: {'cost': 0.6656738169273942, 'accuracy': 0.578},\n",
       " 24: {'cost': 0.6644452900763459, 'accuracy': 0.581},\n",
       " 25: {'cost': 0.6632261760411586, 'accuracy': 0.583},\n",
       " 26: {'cost': 0.6620191536269343, 'accuracy': 0.587},\n",
       " 27: {'cost': 0.6608197776675725, 'accuracy': 0.587},\n",
       " 28: {'cost': 0.6596225456908716, 'accuracy': 0.588},\n",
       " 29: {'cost': 0.6584278973072152, 'accuracy': 0.591},\n",
       " 30: {'cost': 0.6572321581071019, 'accuracy': 0.593},\n",
       " 31: {'cost': 0.6560366748885766, 'accuracy': 0.595},\n",
       " 32: {'cost': 0.6548425080698217, 'accuracy': 0.596},\n",
       " 33: {'cost': 0.6536514336358226, 'accuracy': 0.597},\n",
       " 34: {'cost': 0.6524583353870564, 'accuracy': 0.601},\n",
       " 35: {'cost': 0.6512553706367223, 'accuracy': 0.603},\n",
       " 36: {'cost': 0.6500421635013609, 'accuracy': 0.605},\n",
       " 37: {'cost': 0.6488154427499412, 'accuracy': 0.608},\n",
       " 38: {'cost': 0.6475773155824093, 'accuracy': 0.612},\n",
       " 39: {'cost': 0.6463276498099318, 'accuracy': 0.616},\n",
       " 40: {'cost': 0.6450666979687016, 'accuracy': 0.619},\n",
       " 41: {'cost': 0.6437959637480962, 'accuracy': 0.626},\n",
       " 42: {'cost': 0.6425120715147812, 'accuracy': 0.631},\n",
       " 43: {'cost': 0.6412189341062563, 'accuracy': 0.634},\n",
       " 44: {'cost': 0.6399192008891088, 'accuracy': 0.634},\n",
       " 45: {'cost': 0.6386133794465575, 'accuracy': 0.637},\n",
       " 46: {'cost': 0.6373048202594342, 'accuracy': 0.639},\n",
       " 47: {'cost': 0.6359993167924219, 'accuracy': 0.645},\n",
       " 48: {'cost': 0.6346940705476427, 'accuracy': 0.646},\n",
       " 49: {'cost': 0.633392633129236, 'accuracy': 0.65},\n",
       " 50: {'cost': 0.6320980422009584, 'accuracy': 0.654},\n",
       " 51: {'cost': 0.6308037016571714, 'accuracy': 0.659},\n",
       " 52: {'cost': 0.629512022221056, 'accuracy': 0.659},\n",
       " 53: {'cost': 0.628222543289412, 'accuracy': 0.663},\n",
       " 54: {'cost': 0.6269312063912054, 'accuracy': 0.664},\n",
       " 55: {'cost': 0.6256440948782915, 'accuracy': 0.665},\n",
       " 56: {'cost': 0.6243610282213685, 'accuracy': 0.668},\n",
       " 57: {'cost': 0.6230784746723569, 'accuracy': 0.675},\n",
       " 58: {'cost': 0.6218045347183798, 'accuracy': 0.679},\n",
       " 59: {'cost': 0.6205385287712318, 'accuracy': 0.681},\n",
       " 60: {'cost': 0.6192785564004273, 'accuracy': 0.685},\n",
       " 61: {'cost': 0.6180235366492648, 'accuracy': 0.69},\n",
       " 62: {'cost': 0.6167737085847191, 'accuracy': 0.692},\n",
       " 63: {'cost': 0.6155277047630788, 'accuracy': 0.696},\n",
       " 64: {'cost': 0.6142861387171306, 'accuracy': 0.699},\n",
       " 65: {'cost': 0.6130512116205163, 'accuracy': 0.703},\n",
       " 66: {'cost': 0.6118224009574308, 'accuracy': 0.706},\n",
       " 67: {'cost': 0.6105960633392005, 'accuracy': 0.707},\n",
       " 68: {'cost': 0.6093746499456254, 'accuracy': 0.71},\n",
       " 69: {'cost': 0.6081637740720036, 'accuracy': 0.712},\n",
       " 70: {'cost': 0.6069646261364078, 'accuracy': 0.713},\n",
       " 71: {'cost': 0.6057747932486757, 'accuracy': 0.716},\n",
       " 72: {'cost': 0.6045963168806057, 'accuracy': 0.717},\n",
       " 73: {'cost': 0.6034304224735144, 'accuracy': 0.717},\n",
       " 74: {'cost': 0.6022783978059806, 'accuracy': 0.721},\n",
       " 75: {'cost': 0.6011362295053463, 'accuracy': 0.722},\n",
       " 76: {'cost': 0.6000014067106731, 'accuracy': 0.722},\n",
       " 77: {'cost': 0.5988736156009173, 'accuracy': 0.722},\n",
       " 78: {'cost': 0.5977547530583611, 'accuracy': 0.724},\n",
       " 79: {'cost': 0.5966422112455116, 'accuracy': 0.727},\n",
       " 80: {'cost': 0.5955369542572185, 'accuracy': 0.727},\n",
       " 81: {'cost': 0.5944366041883344, 'accuracy': 0.726},\n",
       " 82: {'cost': 0.5933432695180063, 'accuracy': 0.726},\n",
       " 83: {'cost': 0.5922567434703129, 'accuracy': 0.727},\n",
       " 84: {'cost': 0.591176145214304, 'accuracy': 0.728},\n",
       " 85: {'cost': 0.5901067999752924, 'accuracy': 0.728},\n",
       " 86: {'cost': 0.5890422762693802, 'accuracy': 0.729},\n",
       " 87: {'cost': 0.5879818941440113, 'accuracy': 0.728},\n",
       " 88: {'cost': 0.5869259332898307, 'accuracy': 0.729},\n",
       " 89: {'cost': 0.5858723940573256, 'accuracy': 0.729},\n",
       " 90: {'cost': 0.5848238638119825, 'accuracy': 0.73},\n",
       " 91: {'cost': 0.5837770668123656, 'accuracy': 0.73},\n",
       " 92: {'cost': 0.5827334160933745, 'accuracy': 0.731},\n",
       " 93: {'cost': 0.5816921804363601, 'accuracy': 0.732},\n",
       " 94: {'cost': 0.5806530942805053, 'accuracy': 0.733},\n",
       " 95: {'cost': 0.5796198786997545, 'accuracy': 0.735},\n",
       " 96: {'cost': 0.5785946493488096, 'accuracy': 0.736},\n",
       " 97: {'cost': 0.5775739304600973, 'accuracy': 0.735},\n",
       " 98: {'cost': 0.5765603716214384, 'accuracy': 0.735},\n",
       " 99: {'cost': 0.5755495857953353, 'accuracy': 0.736},\n",
       " 100: {'cost': 0.5745440931383649, 'accuracy': 0.738},\n",
       " 101: {'cost': 0.5735425772059681, 'accuracy': 0.739}}"
      ]
     },
     "execution_count": 10,
     "metadata": {},
     "output_type": "execute_result"
    }
   ],
   "source": [
    "nn.epochs"
   ]
  }
 ],
 "metadata": {
  "hide_input": false,
  "kernelspec": {
   "display_name": "Python 3",
   "language": "python",
   "name": "python3"
  },
  "language_info": {
   "codemirror_mode": {
    "name": "ipython",
    "version": 3
   },
   "file_extension": ".py",
   "mimetype": "text/x-python",
   "name": "python",
   "nbconvert_exporter": "python",
   "pygments_lexer": "ipython3",
   "version": "3.7.7"
  },
  "latex_envs": {
   "LaTeX_envs_menu_present": true,
   "autoclose": false,
   "autocomplete": true,
   "bibliofile": "biblio.bib",
   "cite_by": "apalike",
   "current_citInitial": 1,
   "eqLabelWithNumbers": true,
   "eqNumInitial": 1,
   "hotkeys": {
    "equation": "Ctrl-E",
    "itemize": "Ctrl-I"
   },
   "labels_anchors": false,
   "latex_user_defs": false,
   "report_style_numbering": false,
   "user_envs_cfg": false
  },
  "varInspector": {
   "cols": {
    "lenName": 16,
    "lenType": 16,
    "lenVar": 40
   },
   "kernels_config": {
    "python": {
     "delete_cmd_postfix": "",
     "delete_cmd_prefix": "del ",
     "library": "var_list.py",
     "varRefreshCmd": "print(var_dic_list())"
    },
    "r": {
     "delete_cmd_postfix": ") ",
     "delete_cmd_prefix": "rm(",
     "library": "var_list.r",
     "varRefreshCmd": "cat(var_dic_list()) "
    }
   },
   "types_to_exclude": [
    "module",
    "function",
    "builtin_function_or_method",
    "instance",
    "_Feature"
   ],
   "window_display": false
  }
 },
 "nbformat": 4,
 "nbformat_minor": 4
}
